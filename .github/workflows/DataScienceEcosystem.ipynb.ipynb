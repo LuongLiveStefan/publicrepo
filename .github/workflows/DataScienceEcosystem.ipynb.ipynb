{
 "cells": [
  {
   "cell_type": "markdown",
   "id": "6edb04ab-b90e-4c52-90b7-b08c9dae8092",
   "metadata": {},
   "source": [
    "# Data Science Tools and Ecosystem\n"
   ]
  },
  {
   "cell_type": "markdown",
   "id": "d0abe581-0a9e-45bf-ada5-f9bc894f238f",
   "metadata": {},
   "source": [
    "In this notebook, Data Science Tools and Ecosystem are summarized."
   ]
  },
  {
   "cell_type": "markdown",
   "id": "aa917dc5-98f5-4c8f-b312-e1d007cf0fea",
   "metadata": {
    "tags": []
   },
   "source": [
    "Some of the popular languages that Data Scientists use are:\n",
    "1. R\n",
    "2. python\n",
    "3. Julia"
   ]
  },
  {
   "cell_type": "markdown",
   "id": "06bd0543-c031-45bf-b312-a5f6989e4058",
   "metadata": {},
   "source": [
    "Some of the commonly used libraries used by Data Scientists include:\n",
    "+ scipi\n",
    "+ ggplot\n",
    "+ numpy"
   ]
  },
  {
   "cell_type": "markdown",
   "id": "7b4f6ca0-f0cb-40aa-898f-b49487c6472e",
   "metadata": {},
   "source": [
    "| Data Science Tools |\n",
    "----------------------\n",
    "| Python |\n",
    "| R |\n",
    "| development environment open source tools |"
   ]
  },
  {
   "cell_type": "markdown",
   "id": "2d887729-04b4-4321-b716-b455c2719ecf",
   "metadata": {},
   "source": [
    "### Below are a few examples of evaluating arithmetic expressions in Python"
   ]
  },
  {
   "cell_type": "code",
   "execution_count": 2,
   "id": "418791ec-57df-4ba6-88e6-2117fb3b35a7",
   "metadata": {
    "tags": []
   },
   "outputs": [
    {
     "data": {
      "text/plain": [
       "3"
      ]
     },
     "execution_count": 2,
     "metadata": {},
     "output_type": "execute_result"
    }
   ],
   "source": [
    "1+2"
   ]
  },
  {
   "cell_type": "code",
   "execution_count": 4,
   "id": "3fdb58cc-dfae-42df-ab8e-65fca601f4cd",
   "metadata": {
    "tags": []
   },
   "outputs": [
    {
     "data": {
      "text/plain": [
       "17"
      ]
     },
     "execution_count": 4,
     "metadata": {},
     "output_type": "execute_result"
    }
   ],
   "source": [
    "#This a simple arithmetic expression to mutiply then add integers\n",
    "(3*4)+5\n"
   ]
  },
  {
   "cell_type": "code",
   "execution_count": 5,
   "id": "3f30c29a-2853-4241-8cd2-0965ef47f506",
   "metadata": {
    "tags": []
   },
   "outputs": [
    {
     "data": {
      "text/plain": [
       "3.3333333333333335"
      ]
     },
     "execution_count": 5,
     "metadata": {},
     "output_type": "execute_result"
    }
   ],
   "source": [
    "#This will convert 200 minutes to hours by diving by 60\n",
    "200/60"
   ]
  },
  {
   "cell_type": "markdown",
   "id": "e1d08b1e-5ac5-42b8-9017-3be59b232b76",
   "metadata": {},
   "source": [
    "## Objectives:\n",
    "\n",
    "+ List popular languages for Data Science\n",
    "+ list popular dS tools\n",
    "+ show math"
   ]
  },
  {
   "cell_type": "markdown",
   "id": "73607b3a-105f-4e51-b08e-4c211a717f89",
   "metadata": {},
   "source": [
    "## Author\n",
    "## Stefan"
   ]
  },
  {
   "cell_type": "code",
   "execution_count": null,
   "id": "7247e085-9053-4464-8314-04abac69f909",
   "metadata": {},
   "outputs": [],
   "source": []
  }
 ],
 "metadata": {
  "kernelspec": {
   "display_name": "Python",
   "language": "python",
   "name": "conda-env-python-py"
  },
  "language_info": {
   "codemirror_mode": {
    "name": "ipython",
    "version": 3
   },
   "file_extension": ".py",
   "mimetype": "text/x-python",
   "name": "python",
   "nbconvert_exporter": "python",
   "pygments_lexer": "ipython3",
   "version": "3.7.12"
  }
 },
 "nbformat": 4,
 "nbformat_minor": 5
}
